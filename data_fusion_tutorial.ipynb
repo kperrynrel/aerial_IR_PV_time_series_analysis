{
 "cells": [
  {
   "cell_type": "code",
   "execution_count": 1,
   "id": "fad37d00",
   "metadata": {},
   "outputs": [],
   "source": [
    "import json\n",
    "import geojson\n",
    "from data_fusion import DataFusion\n",
    "import pandas as pd\n",
    "import folium\n",
    "import pprint\n",
    "from IPython.display import display, HTML\n",
    "from IPython.display import IFrame"
   ]
  },
  {
   "cell_type": "markdown",
   "id": "f236bffb",
   "metadata": {},
   "source": [
    "# Data Fusion Pipeline"
   ]
  },
  {
   "cell_type": "markdown",
   "id": "c694a15b",
   "metadata": {},
   "source": [
    "The following example illustrates the data fusion process to explore the relationship between aerial ir defect analysis and photovoltaic short-term performance in PV systems. First, we read in the defect mapping that maps the defect id to the defect name and make it into a dictionary to declare the master data fusion class."
   ]
  },
  {
   "cell_type": "code",
   "execution_count": 2,
   "id": "63bd4c00",
   "metadata": {},
   "outputs": [
    {
     "name": "stdout",
     "output_type": "stream",
     "text": [
      "{'1.1': 'Single Hotspot <10C',\n",
      " '1.2': 'Single Hotspot 10C-20C',\n",
      " '1.3': 'Single Hotspot >20C',\n",
      " '10': 'Damaged Module',\n",
      " '10.1': 'Broken Glass',\n",
      " '11': 'Isolated/ Underperforming Module',\n",
      " '12': 'Sub-string short circuit',\n",
      " '13': 'Misaligned Modules',\n",
      " '14': 'Suspected PID',\n",
      " '15': 'Soiling',\n",
      " '16': 'Delamination',\n",
      " '17': 'String Off-line',\n",
      " '2.1': 'Multi-Hotspots <10C',\n",
      " '2.2': 'Multi-Hotspots 10C-20C',\n",
      " '2.3': 'Multi-Hotspots >20C',\n",
      " '3': 'Diode Bypass',\n",
      " '4': 'Short Circuit',\n",
      " '5': 'Vegetation',\n",
      " '6': 'Junction Box',\n",
      " '7': 'Missing Module',\n",
      " '8': 'Shadow',\n",
      " '9': 'Inter-row/ Table Shading'}\n"
     ]
    }
   ],
   "source": [
    "# Read in defect mapping to map defect id to defect name\n",
    "with open(\"zeitvew_defect_mapping.json\") as json_file:\n",
    "    defect_mapping_dict = json.load(json_file)\n",
    "\n",
    "pprint.pprint(defect_mapping_dict)"
   ]
  },
  {
   "cell_type": "code",
   "execution_count": 3,
   "id": "b76929b9",
   "metadata": {},
   "outputs": [
    {
     "name": "stdout",
     "output_type": "stream",
     "text": [
      "{'defect_geojson_path': './geojsons/NREL-zeitview-report.geojson',\n",
      " 'latitude': 39.7409,\n",
      " 'longitude': -105.171,\n",
      " 'mount': 'fixed',\n",
      " 'scan_date': '6/21/2023',\n",
      " 'site_layout_geojson_path': './geojsons/NREL_RSF_II.geojson',\n",
      " 'system_id': 1283,\n",
      " 'system_name': 'NREL RSF II',\n",
      " 'system_number_modules': 1866,\n",
      " 'time_series_data_path': './full_time_series/C1283.csv'}\n"
     ]
    }
   ],
   "source": [
    "# Read in the associated metadata for the sites\n",
    "\n",
    "with open(\"metadata_dict.json\") as json_file:\n",
    "    metadata_dict = json.load(json_file)\n",
    "    \n",
    "# read in the metadata specifically for NREL RSF II\n",
    "metadata = [x for x in metadata_dict if x['system_name'] == \"NREL RSF II\"][0]\n",
    "\n",
    "pprint.pprint(metadata)"
   ]
  },
  {
   "cell_type": "code",
   "execution_count": 4,
   "id": "1b04fd35",
   "metadata": {},
   "outputs": [],
   "source": [
    "# Declare master data fusion class\n",
    "data_fusion = DataFusion(defect_mapping_dict, by_site=True)  "
   ]
  },
  {
   "cell_type": "markdown",
   "id": "6dbf7ef6",
   "metadata": {},
   "source": [
    "## 1. Read GeoJSON Files"
   ]
  },
  {
   "cell_type": "markdown",
   "id": "f696b9d4",
   "metadata": {},
   "source": [
    "Now, we read in the site and aerial ir defect analysis geojsons. "
   ]
  },
  {
   "cell_type": "code",
   "execution_count": 5,
   "id": "aceade74",
   "metadata": {},
   "outputs": [
    {
     "name": "stdout",
     "output_type": "stream",
     "text": [
      "{\"features\": [{\"geometry\": {\"coordinates\": [[[-105.170311, 39.740977], [-105.170376, 39.74113], [-105.171912, 39.740811], [-105.171864, 39.740657], [-105.170311, 39.740977]]], \"type\": \"Polygon\"}, \"properties\": {}, \"type\": \"Feature\"}, {\"geometry\": {\"coordinates\": [[[-105.17083, 39.740714], [-105.170881, 39.74085], [-105.170934, 39.740839], [-105.170981, 39.740831], [-105.171057, 39.740821], [-105.171007, 39.740672], [-105.17083, 39.740714]]], \"type\": \"Polygon\"}, \"properties\": {}, \"type\": \"Feature\"}, {\"geometry\": {\"coordinates\": [[[-105.170221, 39.740371], [-105.170226, 39.74054], [-105.171472, 39.740544], [-105.171467, 39.740374], [-105.170221, 39.740371]]], \"type\": \"Polygon\"}, \"properties\": {}, \"type\": \"Feature\"}, {\"geometry\": {\"coordinates\": [[[-105.170772, 39.740588], [-105.170808, 39.740675], [-105.170986, 39.74064], [-105.170945, 39.740552], [-105.170883, 39.740562], [-105.170832, 39.740575], [-105.170772, 39.740588]]], \"type\": \"Polygon\"}, \"properties\": {}, \"type\": \"Feature\"}], \"type\": \"FeatureCollection\"}\n"
     ]
    }
   ],
   "source": [
    "# Read in site geojson\n",
    "with open(metadata[\"site_layout_geojson_path\"]) as f:\n",
    "    site_dict = geojson.load(f)\n",
    "with open(metadata[\"defect_geojson_path\"]) as f:\n",
    "    aerial_defect_dict = geojson.load(f)\n",
    "    \n",
    "# Print the associated Geojson information\n",
    "pprint.pprint(site_dict)"
   ]
  },
  {
   "cell_type": "markdown",
   "id": "2a6fbd13",
   "metadata": {},
   "source": [
    "Additionally, the site and aerial geojson layers can be mapped on a satellite image and saved as an html file. The green layer represents the site geojson and the red layer represents the aerial ir defect analysis geojson. Hovering over the red defect blocks displays the defect name.\n",
    "\n",
    "Please note that we are only looking at the NREL RSF II installation (in green), not every installation on the NREL campus, so some defects are not mapped to a particular installation here."
   ]
  },
  {
   "cell_type": "code",
   "execution_count": 6,
   "id": "0a4f69bd",
   "metadata": {},
   "outputs": [
    {
     "data": {
      "text/html": [
       "\n",
       "        <iframe\n",
       "            width=\"800\"\n",
       "            height=\"350\"\n",
       "            src=\"NREL_RSFII_folium_map.html\"\n",
       "            frameborder=\"0\"\n",
       "            allowfullscreen\n",
       "            \n",
       "        ></iframe>\n",
       "        "
      ],
      "text/plain": [
       "<IPython.lib.display.IFrame at 0x26dd2fa2230>"
      ]
     },
     "execution_count": 6,
     "metadata": {},
     "output_type": "execute_result"
    }
   ],
   "source": [
    "site_coords = (metadata['latitude'], metadata['longitude'])\n",
    "folium_file_path = \"./NREL_RSF_II_folium_map.html\"\n",
    "\n",
    "# Maps defect name to defect id in aerial ir dictionary to get defect_name for folium tooltip\n",
    "for defect in aerial_defect_dict[\"features\"]:\n",
    "        defect_id = defect[\"properties\"][\"defect_type_id\"]\n",
    "        defect_name = defect_mapping_dict[defect_id]\n",
    "        defect[\"properties\"][\"defect_name\"] = defect_name \n",
    "# Generate html\n",
    "folium_map = data_fusion.generate_folium_graphic(metadata['system_name'],\n",
    "                                                 site_coords, \n",
    "                                                 site_dict, \n",
    "                                                 aerial_defect_dict,\n",
    "                                                 zoom=17)\n",
    "folium_map.save('NREL_RSFII_folium_map.html')\n",
    "\n",
    "IFrame(src=\"NREL_RSFII_folium_map.html\", width=800, height=350)"
   ]
  },
  {
   "cell_type": "markdown",
   "id": "0ad8812a",
   "metadata": {},
   "source": [
    "## 2. Fuse Aerial IR Defect Analysis with Site "
   ]
  },
  {
   "cell_type": "markdown",
   "id": "02411c0c",
   "metadata": {},
   "source": [
    "After reading in the geojson files, we merge the site and aerial defect information to isolate defects by inverter blocks. The merging returns a dataframe where each row is a defect found, mapping to a particular area in the site dictionary."
   ]
  },
  {
   "cell_type": "code",
   "execution_count": 7,
   "id": "62465362",
   "metadata": {},
   "outputs": [
    {
     "data": {
      "text/html": [
       "<div>\n",
       "<style scoped>\n",
       "    .dataframe tbody tr th:only-of-type {\n",
       "        vertical-align: middle;\n",
       "    }\n",
       "\n",
       "    .dataframe tbody tr th {\n",
       "        vertical-align: top;\n",
       "    }\n",
       "\n",
       "    .dataframe thead th {\n",
       "        text-align: right;\n",
       "    }\n",
       "</style>\n",
       "<table border=\"1\" class=\"dataframe\">\n",
       "  <thead>\n",
       "    <tr style=\"text-align: right;\">\n",
       "      <th></th>\n",
       "      <th>system_id</th>\n",
       "      <th>defect_id</th>\n",
       "      <th>defect_name</th>\n",
       "      <th>inv_block_polygon</th>\n",
       "      <th>defect_polygon</th>\n",
       "      <th>defect_area</th>\n",
       "    </tr>\n",
       "  </thead>\n",
       "  <tbody>\n",
       "    <tr>\n",
       "      <th>0</th>\n",
       "      <td>1283</td>\n",
       "      <td>3</td>\n",
       "      <td>Diode Bypass</td>\n",
       "      <td>POLYGON ((-105.170311 39.740977, -105.170376 3...</td>\n",
       "      <td>POLYGON ((-105.170696 39.741033, -105.170677 3...</td>\n",
       "      <td>1.830000e-10</td>\n",
       "    </tr>\n",
       "    <tr>\n",
       "      <th>1</th>\n",
       "      <td>1283</td>\n",
       "      <td>3</td>\n",
       "      <td>Diode Bypass</td>\n",
       "      <td>POLYGON ((-105.170311 39.740977, -105.170376 3...</td>\n",
       "      <td>POLYGON ((-105.170883 39.740995, -105.170864 3...</td>\n",
       "      <td>1.720000e-10</td>\n",
       "    </tr>\n",
       "    <tr>\n",
       "      <th>2</th>\n",
       "      <td>1283</td>\n",
       "      <td>3</td>\n",
       "      <td>Diode Bypass</td>\n",
       "      <td>POLYGON ((-105.170311 39.740977, -105.170376 3...</td>\n",
       "      <td>POLYGON ((-105.171811 39.740786, -105.171793 3...</td>\n",
       "      <td>1.740000e-10</td>\n",
       "    </tr>\n",
       "    <tr>\n",
       "      <th>3</th>\n",
       "      <td>1283</td>\n",
       "      <td>3</td>\n",
       "      <td>Diode Bypass</td>\n",
       "      <td>POLYGON ((-105.170311 39.740977, -105.170376 3...</td>\n",
       "      <td>POLYGON ((-105.170861 39.74099, -105.170842 39...</td>\n",
       "      <td>1.830000e-10</td>\n",
       "    </tr>\n",
       "    <tr>\n",
       "      <th>4</th>\n",
       "      <td>1283</td>\n",
       "      <td>3</td>\n",
       "      <td>Diode Bypass</td>\n",
       "      <td>POLYGON ((-105.170311 39.740977, -105.170376 3...</td>\n",
       "      <td>POLYGON ((-105.171796 39.740798, -105.171777 3...</td>\n",
       "      <td>1.720000e-10</td>\n",
       "    </tr>\n",
       "    <tr>\n",
       "      <th>5</th>\n",
       "      <td>1283</td>\n",
       "      <td>3</td>\n",
       "      <td>Diode Bypass</td>\n",
       "      <td>POLYGON ((-105.170311 39.740977, -105.170376 3...</td>\n",
       "      <td>POLYGON ((-105.171805 39.740824, -105.171786 3...</td>\n",
       "      <td>1.720000e-10</td>\n",
       "    </tr>\n",
       "    <tr>\n",
       "      <th>6</th>\n",
       "      <td>1283</td>\n",
       "      <td>3</td>\n",
       "      <td>Diode Bypass</td>\n",
       "      <td>POLYGON ((-105.170311 39.740977, -105.170376 3...</td>\n",
       "      <td>POLYGON ((-105.171026 39.740947, -105.171008 3...</td>\n",
       "      <td>1.635000e-10</td>\n",
       "    </tr>\n",
       "    <tr>\n",
       "      <th>7</th>\n",
       "      <td>1283</td>\n",
       "      <td>3</td>\n",
       "      <td>Diode Bypass</td>\n",
       "      <td>POLYGON ((-105.170311 39.740977, -105.170376 3...</td>\n",
       "      <td>POLYGON ((-105.171051 39.74096, -105.171032 39...</td>\n",
       "      <td>1.720000e-10</td>\n",
       "    </tr>\n",
       "    <tr>\n",
       "      <th>8</th>\n",
       "      <td>1283</td>\n",
       "      <td>3</td>\n",
       "      <td>Diode Bypass</td>\n",
       "      <td>POLYGON ((-105.170311 39.740977, -105.170376 3...</td>\n",
       "      <td>POLYGON ((-105.170496 39.741092, -105.170478 3...</td>\n",
       "      <td>1.560000e-10</td>\n",
       "    </tr>\n",
       "    <tr>\n",
       "      <th>9</th>\n",
       "      <td>1283</td>\n",
       "      <td>3</td>\n",
       "      <td>Diode Bypass</td>\n",
       "      <td>POLYGON ((-105.170311 39.740977, -105.170376 3...</td>\n",
       "      <td>POLYGON ((-105.171425 39.740884, -105.171406 3...</td>\n",
       "      <td>1.720000e-10</td>\n",
       "    </tr>\n",
       "  </tbody>\n",
       "</table>\n",
       "</div>"
      ],
      "text/plain": [
       "   system_id defect_id   defect_name  \\\n",
       "0       1283         3  Diode Bypass   \n",
       "1       1283         3  Diode Bypass   \n",
       "2       1283         3  Diode Bypass   \n",
       "3       1283         3  Diode Bypass   \n",
       "4       1283         3  Diode Bypass   \n",
       "5       1283         3  Diode Bypass   \n",
       "6       1283         3  Diode Bypass   \n",
       "7       1283         3  Diode Bypass   \n",
       "8       1283         3  Diode Bypass   \n",
       "9       1283         3  Diode Bypass   \n",
       "\n",
       "                                   inv_block_polygon  \\\n",
       "0  POLYGON ((-105.170311 39.740977, -105.170376 3...   \n",
       "1  POLYGON ((-105.170311 39.740977, -105.170376 3...   \n",
       "2  POLYGON ((-105.170311 39.740977, -105.170376 3...   \n",
       "3  POLYGON ((-105.170311 39.740977, -105.170376 3...   \n",
       "4  POLYGON ((-105.170311 39.740977, -105.170376 3...   \n",
       "5  POLYGON ((-105.170311 39.740977, -105.170376 3...   \n",
       "6  POLYGON ((-105.170311 39.740977, -105.170376 3...   \n",
       "7  POLYGON ((-105.170311 39.740977, -105.170376 3...   \n",
       "8  POLYGON ((-105.170311 39.740977, -105.170376 3...   \n",
       "9  POLYGON ((-105.170311 39.740977, -105.170376 3...   \n",
       "\n",
       "                                      defect_polygon   defect_area  \n",
       "0  POLYGON ((-105.170696 39.741033, -105.170677 3...  1.830000e-10  \n",
       "1  POLYGON ((-105.170883 39.740995, -105.170864 3...  1.720000e-10  \n",
       "2  POLYGON ((-105.171811 39.740786, -105.171793 3...  1.740000e-10  \n",
       "3  POLYGON ((-105.170861 39.74099, -105.170842 39...  1.830000e-10  \n",
       "4  POLYGON ((-105.171796 39.740798, -105.171777 3...  1.720000e-10  \n",
       "5  POLYGON ((-105.171805 39.740824, -105.171786 3...  1.720000e-10  \n",
       "6  POLYGON ((-105.171026 39.740947, -105.171008 3...  1.635000e-10  \n",
       "7  POLYGON ((-105.171051 39.74096, -105.171032 39...  1.720000e-10  \n",
       "8  POLYGON ((-105.170496 39.741092, -105.170478 3...  1.560000e-10  \n",
       "9  POLYGON ((-105.171425 39.740884, -105.171406 3...  1.720000e-10  "
      ]
     },
     "execution_count": 7,
     "metadata": {},
     "output_type": "execute_result"
    }
   ],
   "source": [
    "# Merge defect dictionary with site layout dictionary using DatFusion class\n",
    "defect_df = data_fusion.merge_aerial_site_dictionary(aerial_defect_dict, site_dict, defect_mapping_dict, metadata)\n",
    "defect_df.head(10)"
   ]
  },
  {
   "cell_type": "markdown",
   "id": "bc8ca260",
   "metadata": {},
   "source": [
    "## 3. Aggregate defects and get defect percentage"
   ]
  },
  {
   "cell_type": "markdown",
   "id": "3176be79",
   "metadata": {},
   "source": [
    "Now, we normalize the site and defect area, and subsequently calculate the percentage of the site that contains a particular defect. By finding the defect percentage, we can make comparisons of defects easily across the site."
   ]
  },
  {
   "cell_type": "code",
   "execution_count": 8,
   "id": "2dc19845",
   "metadata": {},
   "outputs": [
    {
     "data": {
      "text/html": [
       "<div>\n",
       "<style scoped>\n",
       "    .dataframe tbody tr th:only-of-type {\n",
       "        vertical-align: middle;\n",
       "    }\n",
       "\n",
       "    .dataframe tbody tr th {\n",
       "        vertical-align: top;\n",
       "    }\n",
       "\n",
       "    .dataframe thead th {\n",
       "        text-align: right;\n",
       "    }\n",
       "</style>\n",
       "<table border=\"1\" class=\"dataframe\">\n",
       "  <thead>\n",
       "    <tr style=\"text-align: right;\">\n",
       "      <th></th>\n",
       "      <th>system_id</th>\n",
       "      <th>defect_name</th>\n",
       "      <th>defect_count</th>\n",
       "      <th>defect_percentage</th>\n",
       "    </tr>\n",
       "  </thead>\n",
       "  <tbody>\n",
       "    <tr>\n",
       "      <th>0</th>\n",
       "      <td>1283</td>\n",
       "      <td>Diode Bypass</td>\n",
       "      <td>30</td>\n",
       "      <td>1.607717</td>\n",
       "    </tr>\n",
       "    <tr>\n",
       "      <th>12</th>\n",
       "      <td>1283</td>\n",
       "      <td>Soiling</td>\n",
       "      <td>3</td>\n",
       "      <td>0.160772</td>\n",
       "    </tr>\n",
       "    <tr>\n",
       "      <th>26</th>\n",
       "      <td>1283</td>\n",
       "      <td>Isolated/ Underperforming Module</td>\n",
       "      <td>20</td>\n",
       "      <td>1.071811</td>\n",
       "    </tr>\n",
       "    <tr>\n",
       "      <th>41</th>\n",
       "      <td>1283</td>\n",
       "      <td>String Off-line</td>\n",
       "      <td>6</td>\n",
       "      <td>0.321543</td>\n",
       "    </tr>\n",
       "  </tbody>\n",
       "</table>\n",
       "</div>"
      ],
      "text/plain": [
       "    system_id                       defect_name  defect_count  \\\n",
       "0        1283                      Diode Bypass            30   \n",
       "12       1283                           Soiling             3   \n",
       "26       1283  Isolated/ Underperforming Module            20   \n",
       "41       1283                   String Off-line             6   \n",
       "\n",
       "    defect_percentage  \n",
       "0            1.607717  \n",
       "12           0.160772  \n",
       "26           1.071811  \n",
       "41           0.321543  "
      ]
     },
     "execution_count": 8,
     "metadata": {},
     "output_type": "execute_result"
    }
   ],
   "source": [
    "pct_defect_df = data_fusion.aggregate_defects(defect_df, metadata['system_number_modules'])\n",
    "\n",
    "pct_defect_df[[\"system_id\", \"defect_name\", \"defect_count\", \"defect_percentage\"]].drop_duplicates()"
   ]
  },
  {
   "cell_type": "markdown",
   "id": "f35b2ef7",
   "metadata": {},
   "source": [
    "#### 4. Plot Short Term Performance Time Series"
   ]
  },
  {
   "cell_type": "markdown",
   "id": "bd200f9d",
   "metadata": {},
   "source": [
    "After fusing and aggregating the site and aerial defect analysis, we can plot the site time series datastreams to analyze its short-term behavior with defects. Here, we defined short-term defects to be \"Misaligned Modules\" or \"String Off-line\". We can also plot the short term PV performace by individual AC power datastreams or aggregated AC power datastream. "
   ]
  },
  {
   "cell_type": "code",
   "execution_count": 9,
   "id": "c4d293ce",
   "metadata": {},
   "outputs": [
    {
     "data": {
      "text/html": [
       "\n",
       "        <iframe\n",
       "            width=\"1100\"\n",
       "            height=\"500\"\n",
       "            src=\"NREL_RSFII_short_term_performance.html\"\n",
       "            frameborder=\"0\"\n",
       "            allowfullscreen\n",
       "            \n",
       "        ></iframe>\n",
       "        "
      ],
      "text/plain": [
       "<IPython.lib.display.IFrame at 0x26dd3757d00>"
      ]
     },
     "execution_count": 9,
     "metadata": {},
     "output_type": "execute_result"
    }
   ],
   "source": [
    "\n",
    "# Read in time series data                                      \n",
    "time_series_df = pd.read_csv(metadata['time_series_data_path'], index_col=0, parse_dates=True)\n",
    "\n",
    "ac_power_columns = [x for x in list(time_series_df.columns) if 'ac_power' in x]\n",
    "time_series_df = time_series_df[ac_power_columns] \n",
    "\n",
    "fig = data_fusion.visualize_short_term_performance(time_series_df,\n",
    "                                                   metadata['scan_date'],\n",
    "                                                   day_window=7)\n",
    "fig.write_html('NREL_RSFII_short_term_performance.html')\n",
    "\n",
    "IFrame(src='NREL_RSFII_short_term_performance.html', width=1100, height=500)"
   ]
  }
 ],
 "metadata": {
  "kernelspec": {
   "display_name": "Python 3 (ipykernel)",
   "language": "python",
   "name": "python3"
  },
  "language_info": {
   "codemirror_mode": {
    "name": "ipython",
    "version": 3
   },
   "file_extension": ".py",
   "mimetype": "text/x-python",
   "name": "python",
   "nbconvert_exporter": "python",
   "pygments_lexer": "ipython3",
   "version": "3.10.0"
  }
 },
 "nbformat": 4,
 "nbformat_minor": 5
}
