{
 "cells": [
  {
   "cell_type": "code",
   "execution_count": 1,
   "id": "57c648b8",
   "metadata": {},
   "outputs": [],
   "source": [
    "import json\n",
    "import geojson\n",
    "from data_fusion import DataFusion\n",
    "import pandas as pd\n",
    "from IPython.display import IFrame, Image\n",
    "import folium"
   ]
  },
  {
   "cell_type": "markdown",
   "id": "69392936",
   "metadata": {},
   "source": [
    "# Data Fusion Pipeline"
   ]
  },
  {
   "cell_type": "markdown",
   "id": "f2f92519",
   "metadata": {},
   "source": [
    "The following example illustrates the data fusion process to explore the relationship between aerial ir defect analysis and photovoltaic short-term performance in PV systems. First, we read in the defect mapping that maps the defect id to the defect name and make it into a dictionary to declare the master data fusion class."
   ]
  },
  {
   "cell_type": "code",
   "execution_count": 2,
   "id": "b57a351b",
   "metadata": {},
   "outputs": [],
   "source": [
    "# Read in defect mapping to map defect id to defect name\n",
    "with open(\"zeitvew_defect_mapping.json\") as json_file:\n",
    "    defect_mapping = json.load(json_file)\n",
    "# Manipulate defect mapping to have \"defect_id\" and \"defect_name\" columns\n",
    "defect_mapping_df = pd.DataFrame(defect_mapping, index=[0])\n",
    "defect_mapping_df = pd.melt(defect_mapping_df, id_vars = None, \n",
    "                            var_name = \"defect_id\", \n",
    "                            value_name = \"defect_name\")\n",
    "defect_mapping_dict = defect_mapping_df.to_dict()\n",
    "\n",
    "# Declare master data fusion class\n",
    "data_fusion = DataFusion(defect_mapping_dict, by_site=True)  "
   ]
  },
  {
   "cell_type": "markdown",
   "id": "4d2ff6f8",
   "metadata": {},
   "source": [
    "## 1. Read GeoJSON Files"
   ]
  },
  {
   "cell_type": "markdown",
   "id": "568f19f8",
   "metadata": {},
   "source": [
    "Now, we read in the site and aerial ir defect analysis geojsons. "
   ]
  },
  {
   "cell_type": "code",
   "execution_count": 3,
   "id": "504327d6",
   "metadata": {},
   "outputs": [],
   "source": [
    "# Read in site geojson\n",
    "with open(\"./geojson_maps/Vasquez.geojson\") as f:\n",
    "    site_dict = geojson.load(f)\n",
    "with open(\"./geojson_maps/Vasquez-zeitview-report.geojson\") as f:\n",
    "    aerial_defect_dict = geojson.load(f)"
   ]
  },
  {
   "cell_type": "markdown",
   "id": "8690f14f",
   "metadata": {},
   "source": [
    "Additionally, the site and aerial geojson layers can be mapped on a satellite image and saved as an html file. The green layer represents the site geojson and the red layer represents the aerial ir defect analysis geojson. Hovering over the red defect blocks displays the defect name associated with that defect block. "
   ]
  },
  {
   "cell_type": "code",
   "execution_count": 4,
   "id": "a63b50b4",
   "metadata": {
    "scrolled": false
   },
   "outputs": [
    {
     "data": {
      "text/html": [
       "\n",
       "        <iframe\n",
       "            width=\"900\"\n",
       "            height=\"500\"\n",
       "            src=\"./geojson_maps/Vasquez_folium_map.html\"\n",
       "            frameborder=\"0\"\n",
       "            allowfullscreen\n",
       "            \n",
       "        ></iframe>\n",
       "        "
      ],
      "text/plain": [
       "<IPython.lib.display.IFrame at 0x19bcc2f5cc0>"
      ]
     },
     "execution_count": 4,
     "metadata": {},
     "output_type": "execute_result"
    }
   ],
   "source": [
    "site_coords = (40.23010850517763, -104.79910310344493)\n",
    "result_file_path = \"./geojson_maps/\"\n",
    "\n",
    "# Maps defect name to defect id in aerial ir dictionary to get defect_name for folium tooltip\n",
    "for defect in aerial_defect_dict[\"features\"]:\n",
    "        defect_id = defect[\"properties\"][\"defect_type_id\"]\n",
    "        defect_name = defect_mapping_df.loc[defect_mapping_df[\"defect_id\"] == str(defect_id), \"defect_name\"].iloc[0]\n",
    "        defect[\"properties\"][\"defect_name\"] = defect_name \n",
    "# Generate html\n",
    "data_fusion.generate_geojson_html( \"Vasquez\", site_coords, site_dict, aerial_defect_dict, \n",
    "                                  result_file_path, zoom=17)\n",
    "IFrame(\"./geojson_maps/Vasquez_folium_map.html\", width=900, height=500)"
   ]
  },
  {
   "cell_type": "markdown",
   "id": "c78959da",
   "metadata": {},
   "source": [
    "## 2. Fuse Aerial IR Defect Analysis with Site "
   ]
  },
  {
   "cell_type": "markdown",
   "id": "9be3378d",
   "metadata": {},
   "source": [
    "After reading in the geojson files, we merge the site and aerial defect information to isolate defects by inverter blocks. The merging returns a dataframe where each row is a defect found, mapping to a particular area in the site dictionary."
   ]
  },
  {
   "cell_type": "code",
   "execution_count": 5,
   "id": "359ce35c",
   "metadata": {},
   "outputs": [
    {
     "data": {
      "text/html": [
       "<div>\n",
       "<style scoped>\n",
       "    .dataframe tbody tr th:only-of-type {\n",
       "        vertical-align: middle;\n",
       "    }\n",
       "\n",
       "    .dataframe tbody tr th {\n",
       "        vertical-align: top;\n",
       "    }\n",
       "\n",
       "    .dataframe thead th {\n",
       "        text-align: right;\n",
       "    }\n",
       "</style>\n",
       "<table border=\"1\" class=\"dataframe\">\n",
       "  <thead>\n",
       "    <tr style=\"text-align: right;\">\n",
       "      <th></th>\n",
       "      <th>defect_id</th>\n",
       "      <th>inv_block_polygon</th>\n",
       "      <th>defect_polygon</th>\n",
       "      <th>defect_area</th>\n",
       "    </tr>\n",
       "  </thead>\n",
       "  <tbody>\n",
       "    <tr>\n",
       "      <th>0</th>\n",
       "      <td>3</td>\n",
       "      <td>POLYGON ((-104.800711 40.231808, -104.800729 4...</td>\n",
       "      <td>POLYGON ((-104.79921 40.231015, -104.799184 40...</td>\n",
       "      <td>2.340000e-10</td>\n",
       "    </tr>\n",
       "    <tr>\n",
       "      <th>1</th>\n",
       "      <td>17</td>\n",
       "      <td>POLYGON ((-104.800711 40.231808, -104.800729 4...</td>\n",
       "      <td>POLYGON ((-104.799285 40.23134, -104.79926 40....</td>\n",
       "      <td>2.425000e-10</td>\n",
       "    </tr>\n",
       "    <tr>\n",
       "      <th>2</th>\n",
       "      <td>17</td>\n",
       "      <td>POLYGON ((-104.800711 40.231808, -104.800729 4...</td>\n",
       "      <td>POLYGON ((-104.799286 40.23133, -104.79926 40....</td>\n",
       "      <td>2.470000e-10</td>\n",
       "    </tr>\n",
       "    <tr>\n",
       "      <th>3</th>\n",
       "      <td>17</td>\n",
       "      <td>POLYGON ((-104.800711 40.231808, -104.800729 4...</td>\n",
       "      <td>POLYGON ((-104.799286 40.231321, -104.79926 40...</td>\n",
       "      <td>2.470000e-10</td>\n",
       "    </tr>\n",
       "    <tr>\n",
       "      <th>4</th>\n",
       "      <td>17</td>\n",
       "      <td>POLYGON ((-104.800711 40.231808, -104.800729 4...</td>\n",
       "      <td>POLYGON ((-104.799286 40.231311, -104.79926 40...</td>\n",
       "      <td>2.470000e-10</td>\n",
       "    </tr>\n",
       "    <tr>\n",
       "      <th>5</th>\n",
       "      <td>17</td>\n",
       "      <td>POLYGON ((-104.800711 40.231808, -104.800729 4...</td>\n",
       "      <td>POLYGON ((-104.799286 40.231302, -104.79926 40...</td>\n",
       "      <td>2.470000e-10</td>\n",
       "    </tr>\n",
       "    <tr>\n",
       "      <th>6</th>\n",
       "      <td>17</td>\n",
       "      <td>POLYGON ((-104.800711 40.231808, -104.800729 4...</td>\n",
       "      <td>POLYGON ((-104.799286 40.231292, -104.79926 40...</td>\n",
       "      <td>2.470000e-10</td>\n",
       "    </tr>\n",
       "    <tr>\n",
       "      <th>7</th>\n",
       "      <td>17</td>\n",
       "      <td>POLYGON ((-104.800711 40.231808, -104.800729 4...</td>\n",
       "      <td>POLYGON ((-104.799286 40.231283, -104.79926 40...</td>\n",
       "      <td>2.470000e-10</td>\n",
       "    </tr>\n",
       "    <tr>\n",
       "      <th>8</th>\n",
       "      <td>17</td>\n",
       "      <td>POLYGON ((-104.800711 40.231808, -104.800729 4...</td>\n",
       "      <td>POLYGON ((-104.799286 40.231273, -104.79926 40...</td>\n",
       "      <td>2.425000e-10</td>\n",
       "    </tr>\n",
       "    <tr>\n",
       "      <th>9</th>\n",
       "      <td>17</td>\n",
       "      <td>POLYGON ((-104.800711 40.231808, -104.800729 4...</td>\n",
       "      <td>POLYGON ((-104.799286 40.231264, -104.799261 4...</td>\n",
       "      <td>2.375000e-10</td>\n",
       "    </tr>\n",
       "  </tbody>\n",
       "</table>\n",
       "</div>"
      ],
      "text/plain": [
       "  defect_id                                  inv_block_polygon  \\\n",
       "0         3  POLYGON ((-104.800711 40.231808, -104.800729 4...   \n",
       "1        17  POLYGON ((-104.800711 40.231808, -104.800729 4...   \n",
       "2        17  POLYGON ((-104.800711 40.231808, -104.800729 4...   \n",
       "3        17  POLYGON ((-104.800711 40.231808, -104.800729 4...   \n",
       "4        17  POLYGON ((-104.800711 40.231808, -104.800729 4...   \n",
       "5        17  POLYGON ((-104.800711 40.231808, -104.800729 4...   \n",
       "6        17  POLYGON ((-104.800711 40.231808, -104.800729 4...   \n",
       "7        17  POLYGON ((-104.800711 40.231808, -104.800729 4...   \n",
       "8        17  POLYGON ((-104.800711 40.231808, -104.800729 4...   \n",
       "9        17  POLYGON ((-104.800711 40.231808, -104.800729 4...   \n",
       "\n",
       "                                      defect_polygon   defect_area  \n",
       "0  POLYGON ((-104.79921 40.231015, -104.799184 40...  2.340000e-10  \n",
       "1  POLYGON ((-104.799285 40.23134, -104.79926 40....  2.425000e-10  \n",
       "2  POLYGON ((-104.799286 40.23133, -104.79926 40....  2.470000e-10  \n",
       "3  POLYGON ((-104.799286 40.231321, -104.79926 40...  2.470000e-10  \n",
       "4  POLYGON ((-104.799286 40.231311, -104.79926 40...  2.470000e-10  \n",
       "5  POLYGON ((-104.799286 40.231302, -104.79926 40...  2.470000e-10  \n",
       "6  POLYGON ((-104.799286 40.231292, -104.79926 40...  2.470000e-10  \n",
       "7  POLYGON ((-104.799286 40.231283, -104.79926 40...  2.470000e-10  \n",
       "8  POLYGON ((-104.799286 40.231273, -104.79926 40...  2.425000e-10  \n",
       "9  POLYGON ((-104.799286 40.231264, -104.799261 4...  2.375000e-10  "
      ]
     },
     "execution_count": 5,
     "metadata": {},
     "output_type": "execute_result"
    }
   ],
   "source": [
    "# Merge defect dictionary with site layout dictionary using DatFusion class\n",
    "defect_df = data_fusion.merge_aerial_site_dictionary(aerial_defect_dict, site_dict)\n",
    "defect_df.head(10)"
   ]
  },
  {
   "cell_type": "markdown",
   "id": "a3f6ef35",
   "metadata": {},
   "source": [
    "## 3. Get Defect Percentage"
   ]
  },
  {
   "cell_type": "markdown",
   "id": "01ae4eae",
   "metadata": {},
   "source": [
    "Now, we normalize the site and defect area, and subsequently calculate the percentage of the site that contains a particular defect. By finding the defect percentage, we can make comparisons of defects easily across the site."
   ]
  },
  {
   "cell_type": "code",
   "execution_count": 6,
   "id": "34587617",
   "metadata": {},
   "outputs": [
    {
     "data": {
      "text/html": [
       "<div>\n",
       "<style scoped>\n",
       "    .dataframe tbody tr th:only-of-type {\n",
       "        vertical-align: middle;\n",
       "    }\n",
       "\n",
       "    .dataframe tbody tr th {\n",
       "        vertical-align: top;\n",
       "    }\n",
       "\n",
       "    .dataframe thead th {\n",
       "        text-align: right;\n",
       "    }\n",
       "</style>\n",
       "<table border=\"1\" class=\"dataframe\">\n",
       "  <thead>\n",
       "    <tr style=\"text-align: right;\">\n",
       "      <th></th>\n",
       "      <th>defect_id</th>\n",
       "      <th>defect_name</th>\n",
       "      <th>site_area</th>\n",
       "      <th>defect_area</th>\n",
       "      <th>defect_percentage</th>\n",
       "    </tr>\n",
       "  </thead>\n",
       "  <tbody>\n",
       "    <tr>\n",
       "      <th>0</th>\n",
       "      <td>2.1</td>\n",
       "      <td>Multi-Hotspots &lt;10C</td>\n",
       "      <td>77236.016161</td>\n",
       "      <td>2.291622</td>\n",
       "      <td>0.002967</td>\n",
       "    </tr>\n",
       "    <tr>\n",
       "      <th>1</th>\n",
       "      <td>2.1</td>\n",
       "      <td>Multi-Hotspots &lt;10C</td>\n",
       "      <td>77236.016161</td>\n",
       "      <td>2.168798</td>\n",
       "      <td>0.002808</td>\n",
       "    </tr>\n",
       "    <tr>\n",
       "      <th>2</th>\n",
       "      <td>2.1</td>\n",
       "      <td>Multi-Hotspots &lt;10C</td>\n",
       "      <td>77236.016161</td>\n",
       "      <td>2.211338</td>\n",
       "      <td>0.002863</td>\n",
       "    </tr>\n",
       "    <tr>\n",
       "      <th>3</th>\n",
       "      <td>2.1</td>\n",
       "      <td>Multi-Hotspots &lt;10C</td>\n",
       "      <td>77236.016161</td>\n",
       "      <td>2.409833</td>\n",
       "      <td>0.003120</td>\n",
       "    </tr>\n",
       "    <tr>\n",
       "      <th>4</th>\n",
       "      <td>2.1</td>\n",
       "      <td>Multi-Hotspots &lt;10C</td>\n",
       "      <td>77236.016161</td>\n",
       "      <td>2.168856</td>\n",
       "      <td>0.002808</td>\n",
       "    </tr>\n",
       "    <tr>\n",
       "      <th>5</th>\n",
       "      <td>3.0</td>\n",
       "      <td>Diode Bypass</td>\n",
       "      <td>77236.016161</td>\n",
       "      <td>2.211306</td>\n",
       "      <td>0.002863</td>\n",
       "    </tr>\n",
       "    <tr>\n",
       "      <th>6</th>\n",
       "      <td>3.0</td>\n",
       "      <td>Diode Bypass</td>\n",
       "      <td>77236.016161</td>\n",
       "      <td>2.409752</td>\n",
       "      <td>0.003120</td>\n",
       "    </tr>\n",
       "    <tr>\n",
       "      <th>7</th>\n",
       "      <td>3.0</td>\n",
       "      <td>Diode Bypass</td>\n",
       "      <td>77236.016161</td>\n",
       "      <td>2.457003</td>\n",
       "      <td>0.003181</td>\n",
       "    </tr>\n",
       "    <tr>\n",
       "      <th>8</th>\n",
       "      <td>3.0</td>\n",
       "      <td>Diode Bypass</td>\n",
       "      <td>77236.016161</td>\n",
       "      <td>2.211285</td>\n",
       "      <td>0.002863</td>\n",
       "    </tr>\n",
       "    <tr>\n",
       "      <th>9</th>\n",
       "      <td>3.0</td>\n",
       "      <td>Diode Bypass</td>\n",
       "      <td>77236.016161</td>\n",
       "      <td>2.211288</td>\n",
       "      <td>0.002863</td>\n",
       "    </tr>\n",
       "  </tbody>\n",
       "</table>\n",
       "</div>"
      ],
      "text/plain": [
       "   defect_id          defect_name     site_area  defect_area  \\\n",
       "0        2.1  Multi-Hotspots <10C  77236.016161     2.291622   \n",
       "1        2.1  Multi-Hotspots <10C  77236.016161     2.168798   \n",
       "2        2.1  Multi-Hotspots <10C  77236.016161     2.211338   \n",
       "3        2.1  Multi-Hotspots <10C  77236.016161     2.409833   \n",
       "4        2.1  Multi-Hotspots <10C  77236.016161     2.168856   \n",
       "5        3.0         Diode Bypass  77236.016161     2.211306   \n",
       "6        3.0         Diode Bypass  77236.016161     2.409752   \n",
       "7        3.0         Diode Bypass  77236.016161     2.457003   \n",
       "8        3.0         Diode Bypass  77236.016161     2.211285   \n",
       "9        3.0         Diode Bypass  77236.016161     2.211288   \n",
       "\n",
       "   defect_percentage  \n",
       "0           0.002967  \n",
       "1           0.002808  \n",
       "2           0.002863  \n",
       "3           0.003120  \n",
       "4           0.002808  \n",
       "5           0.002863  \n",
       "6           0.003120  \n",
       "7           0.003181  \n",
       "8           0.002863  \n",
       "9           0.002863  "
      ]
     },
     "execution_count": 6,
     "metadata": {},
     "output_type": "execute_result"
    }
   ],
   "source": [
    "normalized_defect_df = data_fusion.get_percent_defect_counts(defect_df)\n",
    "normalized_defect_df.head(10)"
   ]
  },
  {
   "cell_type": "markdown",
   "id": "95197873",
   "metadata": {},
   "source": [
    "## 4. Aggregate Defect Counts"
   ]
  },
  {
   "cell_type": "markdown",
   "id": "6b191a53",
   "metadata": {},
   "source": [
    "Next, we aggregate the defects by their defect name or defect type to get a clearer understanding of the prevalence of different defect types within the site. "
   ]
  },
  {
   "cell_type": "code",
   "execution_count": 7,
   "id": "ba5f4435",
   "metadata": {},
   "outputs": [
    {
     "data": {
      "text/html": [
       "<div>\n",
       "<style scoped>\n",
       "    .dataframe tbody tr th:only-of-type {\n",
       "        vertical-align: middle;\n",
       "    }\n",
       "\n",
       "    .dataframe tbody tr th {\n",
       "        vertical-align: top;\n",
       "    }\n",
       "\n",
       "    .dataframe thead th {\n",
       "        text-align: right;\n",
       "    }\n",
       "</style>\n",
       "<table border=\"1\" class=\"dataframe\">\n",
       "  <thead>\n",
       "    <tr style=\"text-align: right;\">\n",
       "      <th></th>\n",
       "      <th>defect_id</th>\n",
       "      <th>defect_name</th>\n",
       "      <th>site_area</th>\n",
       "      <th>defect_area</th>\n",
       "      <th>defect_percentage</th>\n",
       "      <th>defect_counts</th>\n",
       "    </tr>\n",
       "  </thead>\n",
       "  <tbody>\n",
       "    <tr>\n",
       "      <th>0</th>\n",
       "      <td>2.1</td>\n",
       "      <td>Multi-Hotspots &lt;10C</td>\n",
       "      <td>77236.016161</td>\n",
       "      <td>11.250448</td>\n",
       "      <td>0.014566</td>\n",
       "      <td>5</td>\n",
       "    </tr>\n",
       "    <tr>\n",
       "      <th>1</th>\n",
       "      <td>3.0</td>\n",
       "      <td>Diode Bypass</td>\n",
       "      <td>77236.016161</td>\n",
       "      <td>23.573253</td>\n",
       "      <td>0.030521</td>\n",
       "      <td>10</td>\n",
       "    </tr>\n",
       "    <tr>\n",
       "      <th>2</th>\n",
       "      <td>15.0</td>\n",
       "      <td>Soiling</td>\n",
       "      <td>77236.016161</td>\n",
       "      <td>6.912819</td>\n",
       "      <td>0.008950</td>\n",
       "      <td>3</td>\n",
       "    </tr>\n",
       "    <tr>\n",
       "      <th>3</th>\n",
       "      <td>17.0</td>\n",
       "      <td>String Off-line</td>\n",
       "      <td>77236.016161</td>\n",
       "      <td>1687.125732</td>\n",
       "      <td>2.184377</td>\n",
       "      <td>728</td>\n",
       "    </tr>\n",
       "  </tbody>\n",
       "</table>\n",
       "</div>"
      ],
      "text/plain": [
       "   defect_id          defect_name     site_area  defect_area  \\\n",
       "0        2.1  Multi-Hotspots <10C  77236.016161    11.250448   \n",
       "1        3.0         Diode Bypass  77236.016161    23.573253   \n",
       "2       15.0              Soiling  77236.016161     6.912819   \n",
       "3       17.0      String Off-line  77236.016161  1687.125732   \n",
       "\n",
       "   defect_percentage  defect_counts  \n",
       "0           0.014566              5  \n",
       "1           0.030521             10  \n",
       "2           0.008950              3  \n",
       "3           2.184377            728  "
      ]
     },
     "execution_count": 7,
     "metadata": {},
     "output_type": "execute_result"
    }
   ],
   "source": [
    "agg_defect_area_df = data_fusion.aggregate_defect_areas(normalized_defect_df)\n",
    "agg_defect_area_df.head(10)"
   ]
  },
  {
   "cell_type": "markdown",
   "id": "7b215aad",
   "metadata": {},
   "source": [
    "## 5. Plot Short Term Performance Time Series"
   ]
  },
  {
   "cell_type": "markdown",
   "id": "e378d6fb",
   "metadata": {},
   "source": [
    "After fusing and aggregating the site and aerial defect analysis, we can plot the site time series datastreams to analyze its short-term behavior with defects. Here, we defined short-term defects to be \"Misaligned Modules\" or \"String Off-line\". We can also plot the short term PV performace by individual AC power datastreams or aggregated AC power datastream. "
   ]
  },
  {
   "cell_type": "code",
   "execution_count": 9,
   "id": "dce5e8a2",
   "metadata": {},
   "outputs": [],
   "source": [
    "# Declare parameters for function\n",
    "site_name = \"Vasquez\"\n",
    "time_zone = \"America/Denver\"\n",
    "short_term_defects = [\"Misaligned Modules\", \"String Off-line\"]\n",
    "result_file_path = \"./short_term_performance_plots/\"\n",
    "site_scan_date = \"2023-6-21\"\n",
    "\n",
    "# Read in time series data                                      \n",
    "time_series_df = pd.read_csv(\"./time_series_data/Vasquez.csv\", index_col=0, parse_dates=True)\n",
    "\n",
    "ac_columns_list = [x for x in list(time_series_df.columns) if 'ac_power' in x]\n",
    "\n",
    "try:\n",
    "    time_series_df.index = time_series_df.index.tz_localize(\"UTC\")\n",
    "    time_series_df.index = time_series_df.index.tz_convert(time_zone)\n",
    "except:\n",
    "    time_series_df.index = time_series_df.index.tz_convert(time_zone)\n",
    "time_series_df.columns = map(str.lower, time_series_df.columns)    "
   ]
  },
  {
   "cell_type": "markdown",
   "id": "822b1687",
   "metadata": {},
   "source": [
    "## 5a) Plot Short Term Performance Time Series - Individual Datastreams"
   ]
  },
  {
   "cell_type": "markdown",
   "id": "16d68a98",
   "metadata": {},
   "source": [
    "Here, we plotted the individual AC datastreams to view the performance of each inverter datastreams on the aerial ir site scan date."
   ]
  },
  {
   "cell_type": "code",
   "execution_count": 10,
   "id": "d181819b",
   "metadata": {},
   "outputs": [
    {
     "data": {
      "text/html": [
       "\n",
       "        <iframe\n",
       "            width=\"1500\"\n",
       "            height=\"500\"\n",
       "            src=\"./short_term_performance_plots/Vasquez_String Off-line_short_term_performance_plots.html\"\n",
       "            frameborder=\"0\"\n",
       "            allowfullscreen\n",
       "            \n",
       "        ></iframe>\n",
       "        "
      ],
      "text/plain": [
       "<IPython.lib.display.IFrame at 0x19ba89e03a0>"
      ]
     },
     "execution_count": 10,
     "metadata": {},
     "output_type": "execute_result"
    }
   ],
   "source": [
    "# Visualize time series data with defects                                    \n",
    "short_term_perf = data_fusion.visualize_short_term_performance(agg_defect_area_df, time_series_df,\n",
    "                                                               time_zone, short_term_defects, site_name, \n",
    "                                                               result_file_path, site_scan_date, ac_columns_list)\n",
    "# Display plot\n",
    "plot_path = \"./short_term_performance_plots/Vasquez_String Off-line_short_term_performance_plots.html\"\n",
    "IFrame(src=plot_path, width=1500, height=500)"
   ]
  },
  {
   "cell_type": "markdown",
   "id": "8c1c3c44",
   "metadata": {},
   "source": [
    "## 5b) Plot Short Term Performance Time Series - Aggregated Datastreams"
   ]
  },
  {
   "cell_type": "markdown",
   "id": "0caf53ad",
   "metadata": {},
   "source": [
    "Here, we plotted the aggregated AC datastreams on the aerial ir site scan date. To aggregate the datastreams, we can call aggregate_columns function from the DataFusion class. This is useful for when we need to look at the whole site's performance or when the inverter blocks are not individually labeled, which makes it impossible to map the specific inverter datastreams to their associated inverter block."
   ]
  },
  {
   "cell_type": "code",
   "execution_count": 11,
   "id": "2f3ac343",
   "metadata": {},
   "outputs": [
    {
     "data": {
      "text/html": [
       "\n",
       "        <iframe\n",
       "            width=\"1500\"\n",
       "            height=\"500\"\n",
       "            src=\"./short_term_performance_plots/Vasquez_Aggregated_String Off-line_short_term_performance_plots.html\"\n",
       "            frameborder=\"0\"\n",
       "            allowfullscreen\n",
       "            \n",
       "        ></iframe>\n",
       "        "
      ],
      "text/plain": [
       "<IPython.lib.display.IFrame at 0x19bcd4c3fd0>"
      ]
     },
     "execution_count": 11,
     "metadata": {},
     "output_type": "execute_result"
    }
   ],
   "source": [
    "# Aggregate time series ac power columns\n",
    "agg_time_series_df = data_fusion.aggregate_columns(time_series_df, ac_columns_list)\n",
    "ac_columns_list = agg_time_series_df.columns\n",
    "\n",
    "# Visualize aggregated time series data with defects\n",
    "site_name = \"Vasquez_Aggregated\"\n",
    "short_term_perf = data_fusion.visualize_short_term_performance(agg_defect_area_df, agg_time_series_df,\n",
    "                                                               time_zone, short_term_defects, site_name, \n",
    "                                                               result_file_path, site_scan_date, ac_columns_list)\n",
    "# Display plot\n",
    "plot_path = \"./short_term_performance_plots/Vasquez_Aggregated_String Off-line_short_term_performance_plots.html\"\n",
    "IFrame(src=plot_path, width=1500, height=500)"
   ]
  },
  {
   "cell_type": "markdown",
   "id": "20be2128",
   "metadata": {},
   "source": [
    "## 6. Plot Short Term and Long Term Histograms"
   ]
  },
  {
   "cell_type": "markdown",
   "id": "a09e0d98",
   "metadata": {},
   "source": [
    "Here, we defined short term defects as \"Misaligned Modules\", \"String Off-line\", \"Missing Module\", and \"Soiling\" and long term defects as \"Diode Bypass\", \"Underperforming Module\", \"Single Hotspot <10C\", \"Sub-string short circuit\", \"Broken Glass\", \"Multi-Hotspots <10C\", \"Single Hotspot 10C-20C\", \"Suspected PID\", and \"Single Hotspot >20C\". Below displays the short term and long term histograms for the module defect counts and the associated defect type."
   ]
  },
  {
   "cell_type": "code",
   "execution_count": 12,
   "id": "b2139175",
   "metadata": {},
   "outputs": [
    {
     "data": {
      "image/png": "[encoded data removed]",
      "text/plain": [
       "<Figure size 640x480 with 2 Axes>"
      ]
     },
     "metadata": {},
     "output_type": "display_data"
    }
   ],
   "source": [
    "plot_path = \"./plots/\"\n",
    "data_fusion.generate_histogram(agg_defect_area_df, site_name, plot_path)"
   ]
  }
 ],
 "metadata": {
  "kernelspec": {
   "display_name": "Python 3 (ipykernel)",
   "language": "python",
   "name": "python3"
  },
  "language_info": {
   "codemirror_mode": {
    "name": "ipython",
    "version": 3
   },
   "file_extension": ".py",
   "mimetype": "text/x-python",
   "name": "python",
   "nbconvert_exporter": "python",
   "pygments_lexer": "ipython3",
   "version": "3.10.0"
  }
 },
 "nbformat": 4,
 "nbformat_minor": 5
}
